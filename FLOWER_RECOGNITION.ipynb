{
 "cells": [
  {
   "cell_type": "code",
   "execution_count": 23,
   "id": "d3b4ddaa",
   "metadata": {},
   "outputs": [],
   "source": [
    "#importing liabraries\n",
    "\n",
    "\n"
   ]
  },
  {
   "cell_type": "code",
   "execution_count": 24,
   "id": "7673f8f4",
   "metadata": {},
   "outputs": [],
   "source": [
    "import numpy as np\n",
    "import tensorflow as tf\n",
    "from keras.preprocessing.image import ImageDataGenerator\n",
    "from keras.models import Sequential\n",
    "from tensorflow.keras.datasets import mnist\n",
    "from tensorflow.keras.models import Sequential\n",
    "from tensorflow.keras.layers import Conv2D\n",
    "from tensorflow.keras.layers import MaxPool2D\n",
    "from tensorflow.keras.layers import Flatten\n",
    "from tensorflow.keras.layers import Dropout\n",
    "from tensorflow.keras.layers import Dense"
   ]
  },
  {
   "cell_type": "code",
   "execution_count": 25,
   "id": "60667809",
   "metadata": {},
   "outputs": [],
   "source": [
    "#data preprocessing\n"
   ]
  },
  {
   "cell_type": "code",
   "execution_count": 26,
   "id": "e01fd0a3",
   "metadata": {},
   "outputs": [],
   "source": [
    "\n",
    "#training image processing\n"
   ]
  },
  {
   "cell_type": "code",
   "execution_count": 27,
   "id": "7d8dc2cb",
   "metadata": {},
   "outputs": [
    {
     "data": {
      "text/plain": [
       "'2.10.0'"
      ]
     },
     "execution_count": 27,
     "metadata": {},
     "output_type": "execute_result"
    }
   ],
   "source": [
    "tf.__version__"
   ]
  },
  {
   "cell_type": "code",
   "execution_count": 28,
   "id": "1a7d3b20",
   "metadata": {},
   "outputs": [
    {
     "name": "stdout",
     "output_type": "stream",
     "text": [
      "Found 3261 images belonging to 5 classes.\n"
     ]
    }
   ],
   "source": [
    "train_datagen = ImageDataGenerator (\n",
    "        rescale=1./255,\n",
    "        shear_range=0.2,\n",
    "        zoom_range=0.2,\n",
    "        horizontal_flip=True)\n",
    "Training_Set = train_datagen.flow_from_directory(\n",
    "        'Training_Set',\n",
    "        target_size=(64, 64),\n",
    "        batch_size=32,\n",
    "        class_mode='categorical')\n"
   ]
  },
  {
   "cell_type": "code",
   "execution_count": 29,
   "id": "e768bfea",
   "metadata": {},
   "outputs": [
    {
     "name": "stdout",
     "output_type": "stream",
     "text": [
      "Found 4317 images belonging to 5 classes.\n"
     ]
    }
   ],
   "source": [
    "test_datagen = ImageDataGenerator (rescale=1./255)\n",
    "Test_Set = test_datagen.flow_from_directory(\n",
    "        'Test_Set',\n",
    "        target_size=(64, 64),\n",
    "        batch_size=32,\n",
    "        class_mode='categorical')\n"
   ]
  },
  {
   "cell_type": "code",
   "execution_count": 30,
   "id": "2ef7c2c6",
   "metadata": {},
   "outputs": [],
   "source": [
    "#Building MODEL\n"
   ]
  },
  {
   "cell_type": "code",
   "execution_count": 31,
   "id": "23b7a0cc",
   "metadata": {},
   "outputs": [],
   "source": [
    "cnn = tf.keras.models.Sequential()"
   ]
  },
  {
   "cell_type": "code",
   "execution_count": 32,
   "id": "72ef7e8d",
   "metadata": {},
   "outputs": [],
   "source": [
    "cnn.add(tf.keras.layers.Conv2D(filters=64 , kernel_size=3 , activation='relu' , input_shape=[64,64,3]))\n",
    "cnn.add(tf.keras.layers.MaxPool2D(pool_size=2,strides=2))"
   ]
  },
  {
   "cell_type": "code",
   "execution_count": 33,
   "id": "d288898b",
   "metadata": {},
   "outputs": [],
   "source": [
    "cnn.add(tf.keras.layers.Conv2D(filters=64 , kernel_size=3 , activation='relu'))\n",
    "cnn.add(tf.keras.layers.MaxPool2D(pool_size=2,strides=2))"
   ]
  },
  {
   "cell_type": "code",
   "execution_count": 34,
   "id": "66144d39",
   "metadata": {},
   "outputs": [],
   "source": [
    "cnn.add(tf.keras.layers.Dropout(0.5))"
   ]
  },
  {
   "cell_type": "code",
   "execution_count": 35,
   "id": "9e8cdf43",
   "metadata": {},
   "outputs": [],
   "source": [
    "cnn.add(tf.keras.layers.Flatten())"
   ]
  },
  {
   "cell_type": "code",
   "execution_count": 36,
   "id": "26516bd3",
   "metadata": {},
   "outputs": [],
   "source": [
    "cnn.add(tf.keras.layers.Dense(units=128,activation='relu'))"
   ]
  },
  {
   "cell_type": "code",
   "execution_count": 37,
   "id": "aff09f9a",
   "metadata": {},
   "outputs": [],
   "source": [
    "cnn.add(tf.keras.layers.Dense(units=5,activation='softmax'))"
   ]
  },
  {
   "cell_type": "code",
   "execution_count": 38,
   "id": "95fa1174",
   "metadata": {},
   "outputs": [],
   "source": [
    "cnn.compile(optimizer='rmsprop', loss='categorical_crossentropy',  metrics = ['accuracy'])"
   ]
  },
  {
   "cell_type": "code",
   "execution_count": 39,
   "id": "f8fa40f9",
   "metadata": {},
   "outputs": [
    {
     "name": "stdout",
     "output_type": "stream",
     "text": [
      "Epoch 1/30\n",
      "102/102 [==============================] - 37s 354ms/step - loss: 1.4627 - accuracy: 0.3898 - val_loss: 1.7424 - val_accuracy: 0.3257\n",
      "Epoch 2/30\n",
      "102/102 [==============================] - 38s 375ms/step - loss: 1.1370 - accuracy: 0.5468 - val_loss: 0.9719 - val_accuracy: 0.6264\n",
      "Epoch 3/30\n",
      "102/102 [==============================] - 38s 376ms/step - loss: 1.0287 - accuracy: 0.5983 - val_loss: 0.9777 - val_accuracy: 0.5979\n",
      "Epoch 4/30\n",
      "102/102 [==============================] - 38s 376ms/step - loss: 0.9648 - accuracy: 0.6271 - val_loss: 0.8803 - val_accuracy: 0.6725\n",
      "Epoch 5/30\n",
      "102/102 [==============================] - 39s 386ms/step - loss: 0.8867 - accuracy: 0.6602 - val_loss: 0.9443 - val_accuracy: 0.6405\n",
      "Epoch 6/30\n",
      "102/102 [==============================] - 39s 379ms/step - loss: 0.8563 - accuracy: 0.6737 - val_loss: 0.8508 - val_accuracy: 0.6736\n",
      "Epoch 7/30\n",
      "102/102 [==============================] - 39s 382ms/step - loss: 0.8114 - accuracy: 0.6891 - val_loss: 0.7259 - val_accuracy: 0.7183\n",
      "Epoch 8/30\n",
      "102/102 [==============================] - 39s 382ms/step - loss: 0.7816 - accuracy: 0.6986 - val_loss: 0.7250 - val_accuracy: 0.7169\n",
      "Epoch 9/30\n",
      "102/102 [==============================] - 39s 381ms/step - loss: 0.7474 - accuracy: 0.7176 - val_loss: 0.6446 - val_accuracy: 0.7586\n",
      "Epoch 10/30\n",
      "102/102 [==============================] - 39s 384ms/step - loss: 0.7057 - accuracy: 0.7369 - val_loss: 0.7226 - val_accuracy: 0.7239\n",
      "Epoch 11/30\n",
      "102/102 [==============================] - 39s 384ms/step - loss: 0.6928 - accuracy: 0.7375 - val_loss: 0.6672 - val_accuracy: 0.7533\n",
      "Epoch 12/30\n",
      "102/102 [==============================] - 45s 447ms/step - loss: 0.6670 - accuracy: 0.7443 - val_loss: 0.7162 - val_accuracy: 0.7375\n",
      "Epoch 13/30\n",
      "102/102 [==============================] - 42s 415ms/step - loss: 0.6428 - accuracy: 0.7626 - val_loss: 0.8398 - val_accuracy: 0.6813\n",
      "Epoch 14/30\n",
      "102/102 [==============================] - 39s 387ms/step - loss: 0.6246 - accuracy: 0.7651 - val_loss: 0.6050 - val_accuracy: 0.7834\n",
      "Epoch 15/30\n",
      "102/102 [==============================] - 39s 385ms/step - loss: 0.6023 - accuracy: 0.7630 - val_loss: 0.6235 - val_accuracy: 0.7660\n",
      "Epoch 16/30\n",
      "102/102 [==============================] - 39s 386ms/step - loss: 0.5919 - accuracy: 0.7810 - val_loss: 0.6077 - val_accuracy: 0.7785\n",
      "Epoch 17/30\n",
      "102/102 [==============================] - 40s 388ms/step - loss: 0.5688 - accuracy: 0.7930 - val_loss: 0.5430 - val_accuracy: 0.8029\n",
      "Epoch 18/30\n",
      "102/102 [==============================] - 39s 388ms/step - loss: 0.5590 - accuracy: 0.7856 - val_loss: 0.5102 - val_accuracy: 0.8216\n",
      "Epoch 19/30\n",
      "102/102 [==============================] - 39s 388ms/step - loss: 0.5386 - accuracy: 0.7945 - val_loss: 0.5446 - val_accuracy: 0.8112\n",
      "Epoch 20/30\n",
      "102/102 [==============================] - 40s 394ms/step - loss: 0.5194 - accuracy: 0.8053 - val_loss: 0.5292 - val_accuracy: 0.8221\n",
      "Epoch 21/30\n",
      "102/102 [==============================] - 40s 389ms/step - loss: 0.5089 - accuracy: 0.8062 - val_loss: 0.4703 - val_accuracy: 0.8379\n",
      "Epoch 22/30\n",
      "102/102 [==============================] - 40s 392ms/step - loss: 0.5025 - accuracy: 0.8111 - val_loss: 0.4716 - val_accuracy: 0.8429\n",
      "Epoch 23/30\n",
      "102/102 [==============================] - 40s 389ms/step - loss: 0.4829 - accuracy: 0.8258 - val_loss: 0.4436 - val_accuracy: 0.8538\n",
      "Epoch 24/30\n",
      "102/102 [==============================] - 40s 393ms/step - loss: 0.4690 - accuracy: 0.8344 - val_loss: 0.5118 - val_accuracy: 0.8272\n",
      "Epoch 25/30\n",
      "102/102 [==============================] - 40s 395ms/step - loss: 0.4614 - accuracy: 0.8316 - val_loss: 0.4317 - val_accuracy: 0.8573\n",
      "Epoch 26/30\n",
      "102/102 [==============================] - 40s 388ms/step - loss: 0.4502 - accuracy: 0.8335 - val_loss: 0.4530 - val_accuracy: 0.8513\n",
      "Epoch 27/30\n",
      "102/102 [==============================] - 43s 421ms/step - loss: 0.4304 - accuracy: 0.8412 - val_loss: 0.8550 - val_accuracy: 0.7294\n",
      "Epoch 28/30\n",
      "102/102 [==============================] - 43s 420ms/step - loss: 0.4435 - accuracy: 0.8356 - val_loss: 0.4039 - val_accuracy: 0.8768\n",
      "Epoch 29/30\n",
      "102/102 [==============================] - 48s 472ms/step - loss: 0.4249 - accuracy: 0.8442 - val_loss: 0.4984 - val_accuracy: 0.8402\n",
      "Epoch 30/30\n",
      "102/102 [==============================] - 45s 441ms/step - loss: 0.4113 - accuracy: 0.8451 - val_loss: 0.4920 - val_accuracy: 0.8411\n"
     ]
    },
    {
     "data": {
      "text/plain": [
       "<keras.callbacks.History at 0x25a010e50d0>"
      ]
     },
     "execution_count": 39,
     "metadata": {},
     "output_type": "execute_result"
    }
   ],
   "source": [
    "cnn.fit(x=Training_Set,validation_data=Test_Set,epochs=30)"
   ]
  },
  {
   "cell_type": "code",
   "execution_count": 18,
   "id": "42a8842f",
   "metadata": {},
   "outputs": [],
   "source": [
    "#preprocess new image"
   ]
  },
  {
   "cell_type": "code",
   "execution_count": 19,
   "id": "680a6a06",
   "metadata": {},
   "outputs": [
    {
     "name": "stdout",
     "output_type": "stream",
     "text": [
      "1/1 [==============================] - 0s 102ms/step\n"
     ]
    }
   ],
   "source": [
    "from keras.preprocessing import image\n",
    "test_image = tf.keras.utils.load_img('prediction/d.jpg',target_size=(64,64))\n",
    "test_image = tf.keras.utils.img_to_array(test_image)\n",
    "test_image = np.expand_dims(test_image,axis=0)\n",
    "result = cnn.predict(test_image)\n"
   ]
  },
  {
   "cell_type": "code",
   "execution_count": 20,
   "id": "1c022b86",
   "metadata": {},
   "outputs": [
    {
     "data": {
      "text/plain": [
       "{'daisy': 0, 'dandelion': 1, 'rose': 2, 'sunflower': 3, 'tulip': 4}"
      ]
     },
     "execution_count": 20,
     "metadata": {},
     "output_type": "execute_result"
    }
   ],
   "source": [
    "Training_Set.class_indices"
   ]
  },
  {
   "cell_type": "code",
   "execution_count": 21,
   "id": "1e5a4b2c",
   "metadata": {},
   "outputs": [
    {
     "name": "stdout",
     "output_type": "stream",
     "text": [
      "[[1. 0. 0. 0. 0.]]\n"
     ]
    }
   ],
   "source": [
    "print(result)"
   ]
  },
  {
   "cell_type": "code",
   "execution_count": 40,
   "id": "fc330e33",
   "metadata": {},
   "outputs": [
    {
     "name": "stdout",
     "output_type": "stream",
     "text": [
      "Daisy\n"
     ]
    }
   ],
   "source": [
    "if result[0][0]==1:\n",
    "    print('Daisy')\n",
    "elif result[0][1]==1:\n",
    "    print('Dandelion')\n",
    "elif result[0][2]==1:\n",
    "    print('Rose')\n",
    "elif result[0][3]==1:\n",
    "    print('SunFlower')\n",
    "elif result[0][4]==1:\n",
    "    print(\"Tulip\")\n",
    "    "
   ]
  },
  {
   "cell_type": "code",
   "execution_count": null,
   "id": "42697d5e",
   "metadata": {},
   "outputs": [],
   "source": []
  },
  {
   "cell_type": "code",
   "execution_count": null,
   "id": "470fa9b0",
   "metadata": {},
   "outputs": [],
   "source": []
  },
  {
   "cell_type": "code",
   "execution_count": null,
   "id": "4329af4e",
   "metadata": {},
   "outputs": [],
   "source": []
  },
  {
   "cell_type": "code",
   "execution_count": null,
   "id": "5fe8dfe3",
   "metadata": {},
   "outputs": [],
   "source": []
  },
  {
   "cell_type": "code",
   "execution_count": null,
   "id": "1a0f2089",
   "metadata": {},
   "outputs": [],
   "source": []
  },
  {
   "cell_type": "code",
   "execution_count": null,
   "id": "730bc6c2",
   "metadata": {},
   "outputs": [],
   "source": []
  },
  {
   "cell_type": "code",
   "execution_count": null,
   "id": "83947b25",
   "metadata": {},
   "outputs": [],
   "source": []
  },
  {
   "cell_type": "code",
   "execution_count": null,
   "id": "801bdfe4",
   "metadata": {},
   "outputs": [],
   "source": []
  }
 ],
 "metadata": {
  "kernelspec": {
   "display_name": "Python 3 (ipykernel)",
   "language": "python",
   "name": "python3"
  },
  "language_info": {
   "codemirror_mode": {
    "name": "ipython",
    "version": 3
   },
   "file_extension": ".py",
   "mimetype": "text/x-python",
   "name": "python",
   "nbconvert_exporter": "python",
   "pygments_lexer": "ipython3",
   "version": "3.9.13"
  }
 },
 "nbformat": 4,
 "nbformat_minor": 5
}
